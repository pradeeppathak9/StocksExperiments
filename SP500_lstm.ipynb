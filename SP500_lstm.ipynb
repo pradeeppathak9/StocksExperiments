{
  "nbformat": 4,
  "nbformat_minor": 0,
  "metadata": {
    "colab": {
      "name": "SP500-lstm.ipynb",
      "provenance": [],
      "collapsed_sections": []
    },
    "kernelspec": {
      "name": "python3",
      "display_name": "Python 3"
    },
    "accelerator": "GPU",
    "widgets": {
      "application/vnd.jupyter.widget-state+json": {
        "6402cab482e5421a9362e0b81bbbc0f5": {
          "model_module": "@jupyter-widgets/controls",
          "model_name": "DropdownModel",
          "state": {
            "_options_labels": [
              "SP500 (SPX)",
              "Dow Jones (DJI)",
              "Genuine Parts (GPC)",
              "Ford Motor (F)",
              "Omnicom Group (OMC)",
              "Amazon Inc (AMZN)",
              "Vertex Pharmaceuticals Inc (VRTX)",
              "Hormel Food Corp (HRL)",
              "3M Company (MMM)",
              "Gilead Sciences (GILD)",
              "SP500 GSPC (^GSPC)",
              "Whirlpool Corp (WHR)",
              "Colgate-Palmolive (CL)",
              "Allegion (ALLE)",
              "NASDAQ (NADQ)",
              "Akamai Technologies Inc (AKAM)",
              "Advanced Micro Devices Inc (AMD)",
              "Take-Two Interactive (TTWO)",
              "Citrix Systems (CTXS)",
              "Stericycle Inc (SRCL)",
              "United Parcel Service (UPS)"
            ],
            "_view_name": "DropdownView",
            "style": "IPY_MODEL_f910013e4ac0489fb2c9b58e6fbd160d",
            "_dom_classes": [],
            "description": "Stock: ",
            "_model_name": "DropdownModel",
            "index": 0,
            "_view_module": "@jupyter-widgets/controls",
            "_model_module_version": "1.5.0",
            "_view_count": null,
            "disabled": false,
            "_view_module_version": "1.5.0",
            "description_tooltip": null,
            "_model_module": "@jupyter-widgets/controls",
            "layout": "IPY_MODEL_2e58f56e1dac4dce82bd769325460da7"
          }
        },
        "f910013e4ac0489fb2c9b58e6fbd160d": {
          "model_module": "@jupyter-widgets/controls",
          "model_name": "DescriptionStyleModel",
          "state": {
            "_view_name": "StyleView",
            "_model_name": "DescriptionStyleModel",
            "description_width": "",
            "_view_module": "@jupyter-widgets/base",
            "_model_module_version": "1.5.0",
            "_view_count": null,
            "_view_module_version": "1.2.0",
            "_model_module": "@jupyter-widgets/controls"
          }
        },
        "2e58f56e1dac4dce82bd769325460da7": {
          "model_module": "@jupyter-widgets/base",
          "model_name": "LayoutModel",
          "state": {
            "_view_name": "LayoutView",
            "grid_template_rows": null,
            "right": null,
            "justify_content": null,
            "_view_module": "@jupyter-widgets/base",
            "overflow": null,
            "_model_module_version": "1.2.0",
            "_view_count": null,
            "flex_flow": null,
            "width": null,
            "min_width": null,
            "border": null,
            "align_items": null,
            "bottom": null,
            "_model_module": "@jupyter-widgets/base",
            "top": null,
            "grid_column": null,
            "overflow_y": null,
            "overflow_x": null,
            "grid_auto_flow": null,
            "grid_area": null,
            "grid_template_columns": null,
            "flex": null,
            "_model_name": "LayoutModel",
            "justify_items": null,
            "grid_row": null,
            "max_height": null,
            "align_content": null,
            "visibility": null,
            "align_self": null,
            "height": null,
            "min_height": null,
            "padding": null,
            "grid_auto_rows": null,
            "grid_gap": null,
            "max_width": null,
            "order": null,
            "_view_module_version": "1.2.0",
            "grid_template_areas": null,
            "object_position": null,
            "object_fit": null,
            "grid_auto_columns": null,
            "margin": null,
            "display": null,
            "left": null
          }
        },
        "d264ff5b2ca1448db559757cc21f4bb8": {
          "model_module": "@jupyter-widgets/controls",
          "model_name": "DropdownModel",
          "state": {
            "_options_labels": [
              "Daily"
            ],
            "_view_name": "DropdownView",
            "style": "IPY_MODEL_ac9a52691092493e837e800577f83b05",
            "_dom_classes": [],
            "description": "Frequency: ",
            "_model_name": "DropdownModel",
            "index": 0,
            "_view_module": "@jupyter-widgets/controls",
            "_model_module_version": "1.5.0",
            "_view_count": null,
            "disabled": false,
            "_view_module_version": "1.5.0",
            "description_tooltip": null,
            "_model_module": "@jupyter-widgets/controls",
            "layout": "IPY_MODEL_6b5557adc07d4b2b98de7bfec0aab287"
          }
        },
        "ac9a52691092493e837e800577f83b05": {
          "model_module": "@jupyter-widgets/controls",
          "model_name": "DescriptionStyleModel",
          "state": {
            "_view_name": "StyleView",
            "_model_name": "DescriptionStyleModel",
            "description_width": "",
            "_view_module": "@jupyter-widgets/base",
            "_model_module_version": "1.5.0",
            "_view_count": null,
            "_view_module_version": "1.2.0",
            "_model_module": "@jupyter-widgets/controls"
          }
        },
        "6b5557adc07d4b2b98de7bfec0aab287": {
          "model_module": "@jupyter-widgets/base",
          "model_name": "LayoutModel",
          "state": {
            "_view_name": "LayoutView",
            "grid_template_rows": null,
            "right": null,
            "justify_content": null,
            "_view_module": "@jupyter-widgets/base",
            "overflow": null,
            "_model_module_version": "1.2.0",
            "_view_count": null,
            "flex_flow": null,
            "width": null,
            "min_width": null,
            "border": null,
            "align_items": null,
            "bottom": null,
            "_model_module": "@jupyter-widgets/base",
            "top": null,
            "grid_column": null,
            "overflow_y": null,
            "overflow_x": null,
            "grid_auto_flow": null,
            "grid_area": null,
            "grid_template_columns": null,
            "flex": null,
            "_model_name": "LayoutModel",
            "justify_items": null,
            "grid_row": null,
            "max_height": null,
            "align_content": null,
            "visibility": null,
            "align_self": null,
            "height": null,
            "min_height": null,
            "padding": null,
            "grid_auto_rows": null,
            "grid_gap": null,
            "max_width": null,
            "order": null,
            "_view_module_version": "1.2.0",
            "grid_template_areas": null,
            "object_position": null,
            "object_fit": null,
            "grid_auto_columns": null,
            "margin": null,
            "display": null,
            "left": null
          }
        },
        "88ff98611232496687a7d83b56ba7129": {
          "model_module": "@jupyter-widgets/controls",
          "model_name": "DatePickerModel",
          "state": {
            "_view_name": "DatePickerView",
            "style": "IPY_MODEL_e4e17c50e5fd476698988c5b65813fc8",
            "_dom_classes": [],
            "description": "Start Date",
            "_model_name": "DatePickerModel",
            "_view_module": "@jupyter-widgets/controls",
            "_model_module_version": "1.5.0",
            "value": {
              "date": 1,
              "month": 0,
              "year": 2001
            },
            "_view_count": null,
            "disabled": false,
            "_view_module_version": "1.5.0",
            "description_tooltip": null,
            "_model_module": "@jupyter-widgets/controls",
            "layout": "IPY_MODEL_51e01dea29fd44a1b61ce5490b8dfd80"
          }
        },
        "e4e17c50e5fd476698988c5b65813fc8": {
          "model_module": "@jupyter-widgets/controls",
          "model_name": "DescriptionStyleModel",
          "state": {
            "_view_name": "StyleView",
            "_model_name": "DescriptionStyleModel",
            "description_width": "",
            "_view_module": "@jupyter-widgets/base",
            "_model_module_version": "1.5.0",
            "_view_count": null,
            "_view_module_version": "1.2.0",
            "_model_module": "@jupyter-widgets/controls"
          }
        },
        "51e01dea29fd44a1b61ce5490b8dfd80": {
          "model_module": "@jupyter-widgets/base",
          "model_name": "LayoutModel",
          "state": {
            "_view_name": "LayoutView",
            "grid_template_rows": null,
            "right": null,
            "justify_content": null,
            "_view_module": "@jupyter-widgets/base",
            "overflow": null,
            "_model_module_version": "1.2.0",
            "_view_count": null,
            "flex_flow": null,
            "width": null,
            "min_width": null,
            "border": null,
            "align_items": null,
            "bottom": null,
            "_model_module": "@jupyter-widgets/base",
            "top": null,
            "grid_column": null,
            "overflow_y": null,
            "overflow_x": null,
            "grid_auto_flow": null,
            "grid_area": null,
            "grid_template_columns": null,
            "flex": null,
            "_model_name": "LayoutModel",
            "justify_items": null,
            "grid_row": null,
            "max_height": null,
            "align_content": null,
            "visibility": null,
            "align_self": null,
            "height": null,
            "min_height": null,
            "padding": null,
            "grid_auto_rows": null,
            "grid_gap": null,
            "max_width": null,
            "order": null,
            "_view_module_version": "1.2.0",
            "grid_template_areas": null,
            "object_position": null,
            "object_fit": null,
            "grid_auto_columns": null,
            "margin": null,
            "display": null,
            "left": null
          }
        },
        "0eaa104fc1aa47fcad66151929036673": {
          "model_module": "@jupyter-widgets/controls",
          "model_name": "DropdownModel",
          "state": {
            "_options_labels": [
              "open",
              "high",
              "low",
              "close",
              "volume"
            ],
            "_view_name": "DropdownView",
            "style": "IPY_MODEL_c5fd9dd1cd0143b3ae3caa4c73ef32d4",
            "_dom_classes": [],
            "description": "Target: ",
            "_model_name": "DropdownModel",
            "index": 3,
            "_view_module": "@jupyter-widgets/controls",
            "_model_module_version": "1.5.0",
            "_view_count": null,
            "disabled": false,
            "_view_module_version": "1.5.0",
            "description_tooltip": null,
            "_model_module": "@jupyter-widgets/controls",
            "layout": "IPY_MODEL_6b5dce0ef0a64d50ba8c8a529757bfa2"
          }
        },
        "c5fd9dd1cd0143b3ae3caa4c73ef32d4": {
          "model_module": "@jupyter-widgets/controls",
          "model_name": "DescriptionStyleModel",
          "state": {
            "_view_name": "StyleView",
            "_model_name": "DescriptionStyleModel",
            "description_width": "",
            "_view_module": "@jupyter-widgets/base",
            "_model_module_version": "1.5.0",
            "_view_count": null,
            "_view_module_version": "1.2.0",
            "_model_module": "@jupyter-widgets/controls"
          }
        },
        "6b5dce0ef0a64d50ba8c8a529757bfa2": {
          "model_module": "@jupyter-widgets/base",
          "model_name": "LayoutModel",
          "state": {
            "_view_name": "LayoutView",
            "grid_template_rows": null,
            "right": null,
            "justify_content": null,
            "_view_module": "@jupyter-widgets/base",
            "overflow": null,
            "_model_module_version": "1.2.0",
            "_view_count": null,
            "flex_flow": null,
            "width": null,
            "min_width": null,
            "border": null,
            "align_items": null,
            "bottom": null,
            "_model_module": "@jupyter-widgets/base",
            "top": null,
            "grid_column": null,
            "overflow_y": null,
            "overflow_x": null,
            "grid_auto_flow": null,
            "grid_area": null,
            "grid_template_columns": null,
            "flex": null,
            "_model_name": "LayoutModel",
            "justify_items": null,
            "grid_row": null,
            "max_height": null,
            "align_content": null,
            "visibility": null,
            "align_self": null,
            "height": null,
            "min_height": null,
            "padding": null,
            "grid_auto_rows": null,
            "grid_gap": null,
            "max_width": null,
            "order": null,
            "_view_module_version": "1.2.0",
            "grid_template_areas": null,
            "object_position": null,
            "object_fit": null,
            "grid_auto_columns": null,
            "margin": null,
            "display": null,
            "left": null
          }
        }
      }
    }
  },
  "cells": [
    {
      "cell_type": "markdown",
      "metadata": {
        "id": "-qO1SK9bASrS",
        "colab_type": "text"
      },
      "source": [
        "#### Data Layer"
      ]
    },
    {
      "cell_type": "code",
      "metadata": {
        "id": "Dt-cu2lFNZDE",
        "colab_type": "code",
        "cellView": "form",
        "colab": {}
      },
      "source": [
        "#@title ##### Imports and Helper Functions\n",
        "from ipywidgets import interact, interactive, fixed, interact_manual\n",
        "import ipywidgets as widgets\n",
        "from IPython.display import display\n",
        "\n",
        "\n",
        "#@markdown - Numpy, Pandas\n",
        "import numpy as np\n",
        "import pandas as pd\n",
        "pd.options.display.max_columns = 500\n",
        "pd.options.display.max_rows = 500\n",
        "\n",
        "#@markdown - Visualization\n",
        "import matplotlib.pyplot as plt\n",
        "import matplotlib\n",
        "import seaborn as sns\n",
        "\n",
        "\n",
        "#@markdown - Pytorch Dependencies\n",
        "from torch.utils.data import Dataset, DataLoader\n",
        "import torch\n",
        "import torch.nn as nn\n",
        "import torch.nn.functional as F\n",
        "from torch.autograd import Variable\n",
        "from torch.utils.data import Dataset, DataLoader\n",
        "from torch.nn.utils.rnn import pack_padded_sequence\n",
        "from torch.nn.utils.rnn import pad_packed_sequence\n",
        "device = torch.device(\"cuda\") if torch.cuda.is_available() else torch.device(\"cpu\")\n",
        "\n",
        "\n",
        "#@markdown - Sklearn Dependencies\n",
        "from sklearn.preprocessing import MinMaxScaler\n",
        "from sklearn.model_selection import KFold, GroupKFold\n",
        "from sklearn.metrics import cohen_kappa_score, accuracy_score\n",
        "from sklearn.model_selection import TimeSeriesSplit\n",
        "\n",
        "from functools import partial\n",
        "import time\n",
        "\n",
        "\n",
        "\n",
        "def create_date_time_features(df, date_key=''):\n",
        "    \"\"\"Creates time series features from datetime index\"\"\"\n",
        "    df[date_key + '_dayofweek'] = df[date_key].dt.dayofweek\n",
        "    df[date_key + '_quarter'] = df[date_key].dt.quarter\n",
        "    df[date_key + '_month'] = df[date_key].dt.month\n",
        "    df[date_key + '_year'] = df[date_key].dt.year\n",
        "    df[date_key + '_dayofyear'] = df[date_key].dt.dayofyear\n",
        "    df[date_key + '_dayofmonth'] = df[date_key].dt.day\n",
        "    df[date_key + '_weekofyear'] = df[date_key].dt.weekofyear\n",
        "    return df\n",
        "\n",
        "def mean_absolute_percentage_error(y_true, y_pred): \n",
        "    y_true, y_pred = np.array(y_true+1), np.array(y_pred+1)\n",
        "    return (np.mean(np.square((y_true - y_pred)/(y_true))))* 100\n",
        "\n",
        "def calculate_accuracy(real, predict):\n",
        "    real = np.array(real) + 1\n",
        "    predict = np.array(predict) + 1\n",
        "    percentage = 1 - np.sqrt(np.mean(np.square((real - predict) / real)))\n",
        "    return percentage * 100"
      ],
      "execution_count": 0,
      "outputs": []
    },
    {
      "cell_type": "code",
      "metadata": {
        "id": "KV1HIN4VnDlA",
        "colab_type": "code",
        "colab": {}
      },
      "source": [
        ""
      ],
      "execution_count": 0,
      "outputs": []
    },
    {
      "cell_type": "code",
      "metadata": {
        "id": "a2ZkHROhnDol",
        "colab_type": "code",
        "cellView": "form",
        "outputId": "1e2af136-861a-4a6d-e3fb-d9ae138b466c",
        "colab": {
          "base_uri": "https://localhost:8080/",
          "height": 108,
          "referenced_widgets": [
            "6402cab482e5421a9362e0b81bbbc0f5",
            "f910013e4ac0489fb2c9b58e6fbd160d",
            "2e58f56e1dac4dce82bd769325460da7",
            "d264ff5b2ca1448db559757cc21f4bb8",
            "ac9a52691092493e837e800577f83b05",
            "6b5557adc07d4b2b98de7bfec0aab287",
            "88ff98611232496687a7d83b56ba7129",
            "e4e17c50e5fd476698988c5b65813fc8",
            "51e01dea29fd44a1b61ce5490b8dfd80"
          ]
        }
      },
      "source": [
        "#@title Stock Picker\n",
        "stock_options = [\n",
        "\"SP500 (SPX)\",\n",
        "\"Dow Jones (DJI)\",\n",
        "\"Genuine Parts (GPC)\",\n",
        "\"Ford Motor (F)\",\n",
        "\"Omnicom Group (OMC)\",\n",
        "\"Amazon Inc (AMZN)\",\n",
        "\"Vertex Pharmaceuticals Inc (VRTX)\",\n",
        "\"Hormel Food Corp (HRL)\",\n",
        "\"3M Company (MMM)\",\n",
        "\"Gilead Sciences (GILD)\",\n",
        "\"SP500 GSPC (^GSPC)\",\n",
        "\"Whirlpool Corp (WHR)\",\n",
        "\"Colgate-Palmolive (CL)\",\n",
        "\"Allegion (ALLE)\",\n",
        "\"NASDAQ (NADQ)\",\n",
        "\"Akamai Technologies Inc (AKAM)\",\n",
        "\"Advanced Micro Devices Inc (AMD)\",\n",
        "\"Take-Two Interactive (TTWO)\",\n",
        "\"Citrix Systems (CTXS)\",\n",
        "\"Stericycle Inc (SRCL)\",\n",
        "\"United Parcel Service (UPS)\"\n",
        "]\n",
        "\n",
        "stock_picker = widgets.Dropdown(\n",
        "    options=stock_options,\n",
        "    value=stock_options[0],\n",
        "    description='Stock: ',\n",
        "    disabled=False,\n",
        ")\n",
        "display(stock_picker)\n",
        "\n",
        "frequency_options = [\"Daily\"]\n",
        "frequency_picker = widgets.Dropdown(\n",
        "    options=frequency_options,\n",
        "    value=frequency_options[0],\n",
        "    description='Frequency: ',\n",
        "    disabled=False,\n",
        ")\n",
        "display(frequency_picker)\n",
        "\n",
        "start_date_picker = widgets.DatePicker(\n",
        "    description='Start Date',\n",
        "    value=pd.to_datetime(\"2001-01-01\"),\n",
        "    disabled=False,\n",
        "    \n",
        ")\n",
        "display(start_date_picker)\n",
        "\n",
        "\n"
      ],
      "execution_count": 0,
      "outputs": [
        {
          "output_type": "display_data",
          "data": {
            "application/vnd.jupyter.widget-view+json": {
              "model_id": "6402cab482e5421a9362e0b81bbbc0f5",
              "version_minor": 0,
              "version_major": 2
            },
            "text/plain": [
              "Dropdown(description='Stock: ', options=('SP500 (SPX)', 'Dow Jones (DJI)', 'Genuine Parts (GPC)', 'Ford Motor …"
            ]
          },
          "metadata": {
            "tags": []
          }
        },
        {
          "output_type": "display_data",
          "data": {
            "application/vnd.jupyter.widget-view+json": {
              "model_id": "d264ff5b2ca1448db559757cc21f4bb8",
              "version_minor": 0,
              "version_major": 2
            },
            "text/plain": [
              "Dropdown(description='Frequency: ', options=('Daily',), value='Daily')"
            ]
          },
          "metadata": {
            "tags": []
          }
        },
        {
          "output_type": "display_data",
          "data": {
            "application/vnd.jupyter.widget-view+json": {
              "model_id": "88ff98611232496687a7d83b56ba7129",
              "version_minor": 0,
              "version_major": 2
            },
            "text/plain": [
              "DatePicker(value=Timestamp('2001-01-01 00:00:00'), description='Start Date')"
            ]
          },
          "metadata": {
            "tags": []
          }
        }
      ]
    },
    {
      "cell_type": "code",
      "metadata": {
        "id": "hNSgLv4oJ721",
        "colab_type": "code",
        "cellView": "form",
        "outputId": "6a950b8b-c6fe-406d-d472-409f86b381cf",
        "colab": {
          "base_uri": "https://localhost:8080/",
          "height": 50
        }
      },
      "source": [
        "#@title ##### Fetiching Stock Data\n",
        "\n",
        "STOCK_NAME = stock_picker.value.split(\" \")[-1].strip(\"(\").strip(\")\")\n",
        "FREQUENCY = frequency_picker.value\n",
        "START_DATE = start_date_picker.value.strftime('%Y-%m-%d')\n",
        "FUNCTION_NAME = \"TIME_SERIES_DAILY\"\n",
        "OUTPUT_SIZE = \"full\"\n",
        "AV_API_KEY = \"VB7RAXNKFLND1PU7\"\n",
        "\n",
        "AV_URL = \"https://www.alphavantage.co/query?function={}&symbol={}&outputsize={}&start_date={}&apikey={}&datatype=csv\".format(\n",
        "    FUNCTION_NAME, STOCK_NAME, OUTPUT_SIZE, START_DATE, AV_API_KEY\n",
        ")\n",
        "\n",
        "import pandas as pd\n",
        "print(\"Getting {} ...\".format(STOCK_NAME))\n",
        "\n",
        "df_av = pd.read_csv(AV_URL)\n",
        "df_av['timestamp'] = pd.to_datetime(df_av[\"timestamp\"])\n",
        "df_av = df_av.set_index('timestamp')\n",
        "df_av = df_av.sort_index()\n",
        "print(df_av.shape)\n"
      ],
      "execution_count": 0,
      "outputs": [
        {
          "output_type": "stream",
          "text": [
            "Getting SPX ...\n",
            "(5103, 5)\n"
          ],
          "name": "stdout"
        }
      ]
    },
    {
      "cell_type": "code",
      "metadata": {
        "id": "v_KmpsfRHPDR",
        "colab_type": "code",
        "cellView": "form",
        "colab": {}
      },
      "source": [
        "# @title ##### Macro Economic Features\n",
        "\n",
        "# import pandas as pd\n",
        "# import requests\n",
        "# import json\n",
        "\n",
        "\n",
        "# # FRED DATA\n",
        "# fred_symbols = [] \n",
        "# DGS1MO = False #@param {type: \"boolean\"}\n",
        "# if DGS1MO: fred_symbols.append(\"DGS1MO\")\n",
        "# DGS6MO = False #@param {type: \"boolean\"}\n",
        "# if DGS6MO: fred_symbols.append(\"DGS6MO\")\n",
        "# DGS10 = False #@param {type: \"boolean\"}\n",
        "# if DGS10: fred_symbols.append(\"DGS10\")\n",
        "# DGS20 = False #@param {type: \"boolean\"}\n",
        "# if DGS20: fred_symbols.append(\"DGS20\")\n",
        "# DFF = False #@param {type: \"boolean\"}\n",
        "# if DFF: fred_symbols.append(\"DFF\")\n",
        "# USD3MTD156N = False #@param {type: \"boolean\"}\n",
        "# if USD3MTD156N: fred_symbols.append(\"USD3MTD156N\")\n",
        "# T10Y2Y = False #@param {type: \"boolean\"}\n",
        "# if T10Y2Y: fred_symbols.append(\"T10Y2Y\")\n",
        "# T10YIE = False #@param {type: \"boolean\"}\n",
        "# if T10YIE: fred_symbols.append(\"T10YIE\")\n",
        "# GOLDAMGBD228NLBM = False #@param {type: \"boolean\"}\n",
        "# if GOLDAMGBD228NLBM: fred_symbols.append(\"GOLDAMGBD228NLBM\")\n",
        "# DPRIME = False #@param {type: \"boolean\"}\n",
        "# if DPRIME: fred_symbols.append(\"DPRIME\")\n",
        "# USRECD = False #@param {type: \"boolean\"}\n",
        "# if USRECD: fred_symbols.append(\"USRECD\")\n",
        "# VIXCLS = False #@param {type: \"boolean\"}\n",
        "# if VIXCLS: fred_symbols.append(\"VIXCLS\")\n",
        "# USEPUINDXD = False #@param {type: \"boolean\"}\n",
        "# if USEPUINDXD: fred_symbols.append(\"USEPUINDXD\")\n",
        "# DPCREDIT = False #@param {type: \"boolean\"}\n",
        "# if DPCREDIT: fred_symbols.append(\"DPCREDIT\")\n",
        "# USD1WKD156N = False #@param {type: \"boolean\"}\n",
        "# if USD1WKD156N: fred_symbols.append(\"USD1WKD156N\")\n",
        "# DCOILWTICO = False #@param {type: \"boolean\"}\n",
        "# if DCOILWTICO: fred_symbols.append(\"DCOILWTICO\")\n",
        "# DCOILBRENTEU = False #@param {type: \"boolean\"}\n",
        "# if DCOILBRENTEU: fred_symbols.append(\"DCOILBRENTEU\")\n",
        "# DHOILNYH = False #@param {type: \"boolean\"}\n",
        "# if DHOILNYH: fred_symbols.append(\"DHOILNYH\")\n",
        "# print(fred_symbols)\n",
        "\n",
        "\n",
        "\n",
        "# def get_fred_data(symbol, start_date=None, end_date=None, frequency=\"Daily\"):\n",
        "#     URL = \"https://fred.stlouisfed.org/graph/fredgraph.csv?mode=fred\"    \n",
        "#     URL += \"&id={}\".format(symbol)\n",
        "#     if frequency: URL += \"&fq={}\".format(frequency)\n",
        "#     if start_date: URL += \"&cosd={}\".format(start_date)\n",
        "#     if end_date: URL += \"&coed={}\".format(end_date)\n",
        "#     df =  pd.read_csv(URL)\n",
        "#     df['DATE'] = pd.to_datetime(df['DATE'])\n",
        "#     df = df.set_index('DATE')\n",
        "#     df[symbol] = pd.to_numeric(df[symbol], errors='coerce')\n",
        "#     return df\n",
        "\n",
        "\n",
        "df_fred = pd.DataFrame()\n",
        "# for symbol in fred_symbols:\n",
        "#     print(\"Getting {} ...\".format(symbol))\n",
        "#     df = get_fred_data(symbol, start_date=\"2001-01-01\")\n",
        "#     df_fred = df_fred.merge(df, left_index=True, right_index=True, how='outer')    \n",
        "\n",
        "df_gdelt = pd.DataFrame()\n",
        "# # GDELT DATA\n",
        "# GDELT = False #@param {type: \"boolean\"}\n",
        "# if GDELT:\n",
        "#     country = \"US\"\n",
        "#     url = \"http://35.197.61.54/fetch-cached-gdelt-data/GDELTData/{}/findByCountryCode\".format(country)\n",
        "#     print(\"Getting {} ...\".format(\"GDELT\"))\n",
        "#     response = requests.get(url)\n",
        "#     df_gdelt = pd.read_json(json.dumps(response.json()[\"queryEntries\"]))\n",
        "#     df_gdelt.set_index(\"timestamp\", inplace=True)\n",
        "#     df_gdelt.drop(\"id\", axis=1, inplace=True)\n",
        "#     df_gdelt.index = df_gdelt.index.tz_localize(None)\n",
        "#     print(df_gdelt.shape)"
      ],
      "execution_count": 0,
      "outputs": []
    },
    {
      "cell_type": "code",
      "metadata": {
        "id": "44mCp8AlAqxS",
        "colab_type": "code",
        "cellView": "form",
        "outputId": "58fa9bff-b40f-47f0-a4ef-4ccfce38a721",
        "colab": {
          "base_uri": "https://localhost:8080/",
          "height": 236
        }
      },
      "source": [
        "#@title ##### Raw Data Frame Creation\n",
        "df = df_av.merge(df_fred, left_index=True, right_index=True, how='left')\n",
        "df = df.fillna(method='ffill').fillna(0)\n",
        "print(df.shape)\n",
        "df.tail()"
      ],
      "execution_count": 0,
      "outputs": [
        {
          "output_type": "stream",
          "text": [
            "(5103, 5)\n"
          ],
          "name": "stdout"
        },
        {
          "output_type": "execute_result",
          "data": {
            "text/html": [
              "<div>\n",
              "<style scoped>\n",
              "    .dataframe tbody tr th:only-of-type {\n",
              "        vertical-align: middle;\n",
              "    }\n",
              "\n",
              "    .dataframe tbody tr th {\n",
              "        vertical-align: top;\n",
              "    }\n",
              "\n",
              "    .dataframe thead th {\n",
              "        text-align: right;\n",
              "    }\n",
              "</style>\n",
              "<table border=\"1\" class=\"dataframe\">\n",
              "  <thead>\n",
              "    <tr style=\"text-align: right;\">\n",
              "      <th></th>\n",
              "      <th>open</th>\n",
              "      <th>high</th>\n",
              "      <th>low</th>\n",
              "      <th>close</th>\n",
              "      <th>volume</th>\n",
              "    </tr>\n",
              "    <tr>\n",
              "      <th>timestamp</th>\n",
              "      <th></th>\n",
              "      <th></th>\n",
              "      <th></th>\n",
              "      <th></th>\n",
              "      <th></th>\n",
              "    </tr>\n",
              "  </thead>\n",
              "  <tbody>\n",
              "    <tr>\n",
              "      <th>2020-04-08</th>\n",
              "      <td>2685.0000</td>\n",
              "      <td>2760.7500</td>\n",
              "      <td>2663.3000</td>\n",
              "      <td>2749.9800</td>\n",
              "      <td>5856370000</td>\n",
              "    </tr>\n",
              "    <tr>\n",
              "      <th>2020-04-09</th>\n",
              "      <td>2776.9900</td>\n",
              "      <td>2818.5701</td>\n",
              "      <td>2762.3601</td>\n",
              "      <td>2789.8201</td>\n",
              "      <td>7880140000</td>\n",
              "    </tr>\n",
              "    <tr>\n",
              "      <th>2020-04-13</th>\n",
              "      <td>2782.4600</td>\n",
              "      <td>2782.4600</td>\n",
              "      <td>2721.1699</td>\n",
              "      <td>2761.6299</td>\n",
              "      <td>5274310000</td>\n",
              "    </tr>\n",
              "    <tr>\n",
              "      <th>2020-04-14</th>\n",
              "      <td>2805.1001</td>\n",
              "      <td>2851.8501</td>\n",
              "      <td>2805.1001</td>\n",
              "      <td>2846.0601</td>\n",
              "      <td>5567400000</td>\n",
              "    </tr>\n",
              "    <tr>\n",
              "      <th>2020-04-15</th>\n",
              "      <td>2795.6399</td>\n",
              "      <td>2795.6399</td>\n",
              "      <td>2761.5400</td>\n",
              "      <td>2772.1201</td>\n",
              "      <td>1006854296</td>\n",
              "    </tr>\n",
              "  </tbody>\n",
              "</table>\n",
              "</div>"
            ],
            "text/plain": [
              "                 open       high        low      close      volume\n",
              "timestamp                                                         \n",
              "2020-04-08  2685.0000  2760.7500  2663.3000  2749.9800  5856370000\n",
              "2020-04-09  2776.9900  2818.5701  2762.3601  2789.8201  7880140000\n",
              "2020-04-13  2782.4600  2782.4600  2721.1699  2761.6299  5274310000\n",
              "2020-04-14  2805.1001  2851.8501  2805.1001  2846.0601  5567400000\n",
              "2020-04-15  2795.6399  2795.6399  2761.5400  2772.1201  1006854296"
            ]
          },
          "metadata": {
            "tags": []
          },
          "execution_count": 24
        }
      ]
    },
    {
      "cell_type": "code",
      "metadata": {
        "id": "GrxQXQGrHZkS",
        "colab_type": "code",
        "cellView": "form",
        "outputId": "d5ee0c07-236d-4611-d010-495f6a5e0f61",
        "colab": {
          "base_uri": "https://localhost:8080/",
          "height": 48,
          "referenced_widgets": [
            "0eaa104fc1aa47fcad66151929036673",
            "c5fd9dd1cd0143b3ae3caa4c73ef32d4",
            "6b5dce0ef0a64d50ba8c8a529757bfa2"
          ]
        }
      },
      "source": [
        "#@title Select Target\n",
        "target_picker = widgets.Dropdown(\n",
        "    options=df.columns,\n",
        "    value=df.columns[0],\n",
        "    description='Target: ',\n",
        "    disabled=False,\n",
        ")\n",
        "display(target_picker)"
      ],
      "execution_count": 0,
      "outputs": [
        {
          "output_type": "display_data",
          "data": {
            "application/vnd.jupyter.widget-view+json": {
              "model_id": "0eaa104fc1aa47fcad66151929036673",
              "version_minor": 0,
              "version_major": 2
            },
            "text/plain": [
              "Dropdown(description='Target: ', options=('open', 'high', 'low', 'close', 'volume'), value='open')"
            ]
          },
          "metadata": {
            "tags": []
          }
        }
      ]
    },
    {
      "cell_type": "code",
      "metadata": {
        "id": "VIy7W0w5EwNZ",
        "colab_type": "code",
        "cellView": "form",
        "outputId": "855727df-0050-4847-a0e4-dedee097ce74",
        "colab": {
          "base_uri": "https://localhost:8080/",
          "height": 33
        }
      },
      "source": [
        "#@title Selected Target:\n",
        "target = target_picker.value\n",
        "print(target)"
      ],
      "execution_count": 0,
      "outputs": [
        {
          "output_type": "stream",
          "text": [
            "close\n"
          ],
          "name": "stdout"
        }
      ]
    },
    {
      "cell_type": "code",
      "metadata": {
        "id": "Rqq6pxOME6BZ",
        "colab_type": "code",
        "colab": {}
      },
      "source": [
        ""
      ],
      "execution_count": 0,
      "outputs": []
    },
    {
      "cell_type": "code",
      "metadata": {
        "id": "4Ragul1SF70U",
        "colab_type": "code",
        "colab": {}
      },
      "source": [
        ""
      ],
      "execution_count": 0,
      "outputs": []
    },
    {
      "cell_type": "code",
      "metadata": {
        "id": "8kGReHm-a4mD",
        "colab_type": "code",
        "colab": {}
      },
      "source": [
        ""
      ],
      "execution_count": 0,
      "outputs": []
    },
    {
      "cell_type": "code",
      "metadata": {
        "id": "ZhVzqDFuF72t",
        "colab_type": "code",
        "outputId": "c3b390ee-a51d-4a5d-97a9-80eb13be1c17",
        "colab": {
          "base_uri": "https://localhost:8080/",
          "height": 207
        }
      },
      "source": [
        "dates = pd.date_range(df.index.min(), df.index.max(), freq='B')\n",
        "df_ = df.copy(deep=True)\n",
        "# df_ = pd.DataFrame(index=dates).merge(df_, left_index=True, right_index=True, how='outer')\n",
        "df_.index.name = \"timestamp\"\n",
        "df_ = df_.sort_index()\n",
        "df_ = df_.fillna(method='ffill')\n",
        "df_ = df_.reset_index()\n",
        "print(df_.shape)\n",
        "df_.tail()"
      ],
      "execution_count": 0,
      "outputs": [
        {
          "output_type": "stream",
          "text": [
            "(5103, 6)\n"
          ],
          "name": "stdout"
        },
        {
          "output_type": "execute_result",
          "data": {
            "text/html": [
              "<div>\n",
              "<style scoped>\n",
              "    .dataframe tbody tr th:only-of-type {\n",
              "        vertical-align: middle;\n",
              "    }\n",
              "\n",
              "    .dataframe tbody tr th {\n",
              "        vertical-align: top;\n",
              "    }\n",
              "\n",
              "    .dataframe thead th {\n",
              "        text-align: right;\n",
              "    }\n",
              "</style>\n",
              "<table border=\"1\" class=\"dataframe\">\n",
              "  <thead>\n",
              "    <tr style=\"text-align: right;\">\n",
              "      <th></th>\n",
              "      <th>timestamp</th>\n",
              "      <th>open</th>\n",
              "      <th>high</th>\n",
              "      <th>low</th>\n",
              "      <th>close</th>\n",
              "      <th>volume</th>\n",
              "    </tr>\n",
              "  </thead>\n",
              "  <tbody>\n",
              "    <tr>\n",
              "      <th>5098</th>\n",
              "      <td>2020-04-08</td>\n",
              "      <td>2685.0000</td>\n",
              "      <td>2760.7500</td>\n",
              "      <td>2663.3000</td>\n",
              "      <td>2749.9800</td>\n",
              "      <td>5856370000</td>\n",
              "    </tr>\n",
              "    <tr>\n",
              "      <th>5099</th>\n",
              "      <td>2020-04-09</td>\n",
              "      <td>2776.9900</td>\n",
              "      <td>2818.5701</td>\n",
              "      <td>2762.3601</td>\n",
              "      <td>2789.8201</td>\n",
              "      <td>7880140000</td>\n",
              "    </tr>\n",
              "    <tr>\n",
              "      <th>5100</th>\n",
              "      <td>2020-04-13</td>\n",
              "      <td>2782.4600</td>\n",
              "      <td>2782.4600</td>\n",
              "      <td>2721.1699</td>\n",
              "      <td>2761.6299</td>\n",
              "      <td>5274310000</td>\n",
              "    </tr>\n",
              "    <tr>\n",
              "      <th>5101</th>\n",
              "      <td>2020-04-14</td>\n",
              "      <td>2805.1001</td>\n",
              "      <td>2851.8501</td>\n",
              "      <td>2805.1001</td>\n",
              "      <td>2846.0601</td>\n",
              "      <td>5567400000</td>\n",
              "    </tr>\n",
              "    <tr>\n",
              "      <th>5102</th>\n",
              "      <td>2020-04-15</td>\n",
              "      <td>2795.6399</td>\n",
              "      <td>2795.6399</td>\n",
              "      <td>2761.5400</td>\n",
              "      <td>2772.1201</td>\n",
              "      <td>1006854296</td>\n",
              "    </tr>\n",
              "  </tbody>\n",
              "</table>\n",
              "</div>"
            ],
            "text/plain": [
              "      timestamp       open       high        low      close      volume\n",
              "5098 2020-04-08  2685.0000  2760.7500  2663.3000  2749.9800  5856370000\n",
              "5099 2020-04-09  2776.9900  2818.5701  2762.3601  2789.8201  7880140000\n",
              "5100 2020-04-13  2782.4600  2782.4600  2721.1699  2761.6299  5274310000\n",
              "5101 2020-04-14  2805.1001  2851.8501  2805.1001  2846.0601  5567400000\n",
              "5102 2020-04-15  2795.6399  2795.6399  2761.5400  2772.1201  1006854296"
            ]
          },
          "metadata": {
            "tags": []
          },
          "execution_count": 29
        }
      ]
    },
    {
      "cell_type": "code",
      "metadata": {
        "id": "kBVAMvwCF8PT",
        "colab_type": "code",
        "colab": {}
      },
      "source": [
        ""
      ],
      "execution_count": 0,
      "outputs": []
    },
    {
      "cell_type": "code",
      "metadata": {
        "id": "UEQ3sh7YGAra",
        "colab_type": "code",
        "outputId": "0a394ac8-9333-4190-d76e-d11d730e5615",
        "colab": {
          "base_uri": "https://localhost:8080/",
          "height": 33
        }
      },
      "source": [
        "df_.columns"
      ],
      "execution_count": 0,
      "outputs": [
        {
          "output_type": "execute_result",
          "data": {
            "text/plain": [
              "Index(['timestamp', 'open', 'high', 'low', 'close', 'volume'], dtype='object')"
            ]
          },
          "metadata": {
            "tags": []
          },
          "execution_count": 30
        }
      ]
    },
    {
      "cell_type": "code",
      "metadata": {
        "id": "zb4Cjdv8GWFG",
        "colab_type": "code",
        "colab": {}
      },
      "source": [
        ""
      ],
      "execution_count": 0,
      "outputs": []
    },
    {
      "cell_type": "code",
      "metadata": {
        "id": "XI2dNzPQGEB3",
        "colab_type": "code",
        "outputId": "ea133e1f-5d42-4ae6-edda-01640408d234",
        "colab": {
          "base_uri": "https://localhost:8080/",
          "height": 33
        }
      },
      "source": [
        "seq_len = 60\n",
        "tr_index, vl_index, te_index = [], [], []\n",
        "tr_index.extend(df_.index[seq_len:-365-90])\n",
        "vl_index.extend(df_.index[-365-90:-90])\n",
        "te_index.extend(df_.index[-90:])\n",
        "len(tr_index), len(vl_index), len(te_index)"
      ],
      "execution_count": 0,
      "outputs": [
        {
          "output_type": "execute_result",
          "data": {
            "text/plain": [
              "(4588, 365, 90)"
            ]
          },
          "metadata": {
            "tags": []
          },
          "execution_count": 31
        }
      ]
    },
    {
      "cell_type": "code",
      "metadata": {
        "id": "Hk_usjGUGGRg",
        "colab_type": "code",
        "outputId": "a95168a8-c775-4222-c74e-eaf6da103882",
        "colab": {
          "base_uri": "https://localhost:8080/",
          "height": 33
        }
      },
      "source": [
        "num_columns = ['open', 'high', 'low', 'close', 'volume', \n",
        "        # 'DGS1MO','DGS6MO', 'DGS10', 'DGS20', 'DFF', 'USD3MTD156N', 'T10Y2Y', 'T10YIE',\n",
        "    #    'GOLDAMGBD228NLBM', 'DPRIME', 'USRECD', 'VIXCLS', 'USEPUINDXD',\n",
        "    #    'DPCREDIT', 'USD1WKD156N', 'DCOILWTICO', 'DCOILBRENTEU', 'DHOILNYH'\n",
        "]\n",
        "\n",
        "target_col = target\n",
        "num_columns.remove(target_col)\n",
        "\n",
        "ss = MinMaxScaler(feature_range=(0,1))\n",
        "ss.fit(df_.iloc[tr_index][num_columns])\n",
        "df_[num_columns] = ss.transform(df_[num_columns])\n",
        "\n",
        "ss_tar = MinMaxScaler(feature_range=(0,1))\n",
        "ss_tar.fit(df_.iloc[tr_index][[target_col]])\n",
        "df_[[target_col]] = ss_tar.transform(df_[[target_col]])\n",
        "\n",
        "\n",
        "\n",
        "num_columns.append(target_col)\n",
        "num_columns.extend([\n",
        "     \n",
        "])\n",
        "print(num_columns)"
      ],
      "execution_count": 0,
      "outputs": [
        {
          "output_type": "stream",
          "text": [
            "['open', 'high', 'low', 'volume', 'close']\n"
          ],
          "name": "stdout"
        }
      ]
    },
    {
      "cell_type": "code",
      "metadata": {
        "id": "H0KuXW9ZGSXu",
        "colab_type": "code",
        "colab": {}
      },
      "source": [
        "class TabularDataset(Dataset):\n",
        "    def __init__(self, df, indices, seq_len=365, is_test=False):\n",
        "        self.df = df\n",
        "        self.seq_len = seq_len\n",
        "        self.is_test = is_test\n",
        "        self.indices = indices\n",
        "                \n",
        "    def __len__(self):\n",
        "        return len(self.indices)\n",
        "        \n",
        "    def __getitem__(self, ind):\n",
        "        idx = self.indices[ind]\n",
        "        hist_df = self.df.iloc[idx-self.seq_len:idx] \n",
        "        X = hist_df[num_columns].values.astype(np.float32)\n",
        "        # X = X- X[0]\n",
        "\n",
        "        y = self.df.iloc[idx][target_col].astype(np.float32)\n",
        "        \n",
        "        return [X, y, idx]"
      ],
      "execution_count": 0,
      "outputs": []
    },
    {
      "cell_type": "code",
      "metadata": {
        "id": "P8kVSwqWHDUP",
        "colab_type": "code",
        "outputId": "66d6475c-499c-4f65-fbe3-acad855cc3db",
        "colab": {
          "base_uri": "https://localhost:8080/",
          "height": 50
        }
      },
      "source": [
        "print(\"Train\", df_.iloc[tr_index].timestamp.min(), df_.iloc[tr_index].timestamp.max())\n",
        "print(\"Test\", df_.iloc[vl_index].timestamp.min(), df_.iloc[vl_index].timestamp.max())"
      ],
      "execution_count": 0,
      "outputs": [
        {
          "output_type": "stream",
          "text": [
            "Train 2000-03-29 00:00:00 2018-06-22 00:00:00\n",
            "Test 2018-06-25 00:00:00 2019-12-04 00:00:00\n"
          ],
          "name": "stdout"
        }
      ]
    },
    {
      "cell_type": "code",
      "metadata": {
        "id": "1oQySlNKHE-o",
        "colab_type": "code",
        "colab": {}
      },
      "source": [
        ""
      ],
      "execution_count": 0,
      "outputs": []
    },
    {
      "cell_type": "code",
      "metadata": {
        "id": "ClbdAVcbHGfh",
        "colab_type": "code",
        "colab": {}
      },
      "source": [
        ""
      ],
      "execution_count": 0,
      "outputs": []
    },
    {
      "cell_type": "code",
      "metadata": {
        "id": "OM1gEQwbHGhv",
        "colab_type": "code",
        "colab": {}
      },
      "source": [
        "batchsize = 32\n",
        "train_dataset = TabularDataset(df_, indices=tr_index, seq_len=seq_len)\n",
        "train_dataloader = DataLoader(train_dataset, batchsize, shuffle=True, num_workers=1)\n",
        "\n",
        "valid_dataset = TabularDataset(df_, indices=vl_index, seq_len=seq_len, is_test=False)\n",
        "valid_dataloader = DataLoader(valid_dataset, 1, shuffle=False, num_workers=1)\n",
        "\n",
        "test_dataset = TabularDataset(df_, indices=te_index, seq_len=seq_len, is_test=True)\n",
        "test_dataloader = DataLoader(test_dataset, 1, shuffle=False, num_workers=1)"
      ],
      "execution_count": 0,
      "outputs": []
    },
    {
      "cell_type": "code",
      "metadata": {
        "id": "QBZzqCjyHG9N",
        "colab_type": "code",
        "outputId": "6e3bb6ea-25b5-483f-c68d-0629b447b5f7",
        "colab": {
          "base_uri": "https://localhost:8080/",
          "height": 33
        }
      },
      "source": [
        "len(valid_dataset), len(train_dataset), len(test_dataset)"
      ],
      "execution_count": 0,
      "outputs": [
        {
          "output_type": "execute_result",
          "data": {
            "text/plain": [
              "(365, 4588, 90)"
            ]
          },
          "metadata": {
            "tags": []
          },
          "execution_count": 36
        }
      ]
    },
    {
      "cell_type": "code",
      "metadata": {
        "id": "5kZqdxziHInR",
        "colab_type": "code",
        "colab": {}
      },
      "source": [
        "\n",
        "class EarlyStopping:\n",
        "    def __init__(self, patience=5, delta=0, checkpoint_path='checkpoint.pt', is_maximize=True):\n",
        "        self.patience, self.delta, self.checkpoint_path = patience, delta, checkpoint_path\n",
        "        self.counter, self.best_score = 0, None\n",
        "        self.is_maximize = is_maximize\n",
        "\n",
        "    def load_best_weights(self, model):\n",
        "        model.load_state_dict(torch.load(self.checkpoint_path))\n",
        "\n",
        "    def __call__(self, score, model):\n",
        "        if self.best_score is None or \\\n",
        "        (score > self.best_score + self.delta if self.is_maximize else score < self.best_score - self.delta):\n",
        "            torch.save(model.state_dict(), self.checkpoint_path)\n",
        "            self.best_score, self.counter = score, 0\n",
        "        else:\n",
        "            self.counter += 1\n",
        "            if self.counter >= self.patience:\n",
        "                return True\n",
        "        return False\n",
        "    \n",
        "    \n",
        "class StockRNN(nn.Module):\n",
        "    def __init__(self,  \n",
        "                 no_of_num_cols, \n",
        "                 output_size, \n",
        "                 hidden_size, # LSTM hidden size\n",
        "                 num_layers=1, # number of LSTM layers\n",
        "                 bidirectional=True, # Bidirectional LSTM or Not \n",
        "                 rnn_dropout=.3, # droput LSTM \n",
        "                 hidden_layers = [],\n",
        "                 dropout=.3,\n",
        "                 output_activation_fn = None\n",
        "                ):\n",
        "        \n",
        "        super().__init__()\n",
        "        self.bidirectional = bidirectional\n",
        "        self.num_layers = num_layers\n",
        "        self.hidden_size = hidden_size\n",
        "        \n",
        "        self.no_of_num_cols = no_of_num_cols\n",
        "        \n",
        "        rnn_input_size = self.no_of_num_cols\n",
        "        self.lstm = nn.LSTM(input_size=rnn_input_size, hidden_size=hidden_size, num_layers=num_layers, \n",
        "                            bidirectional=bidirectional, batch_first=True,\n",
        "                            dropout=rnn_dropout if num_layers >1 else 0)\n",
        "        \n",
        "        input_concat_size = hidden_size*(2 if bidirectional else 1)*2\n",
        "\n",
        "        # Hidden Fully Connected Layers\n",
        "        if hidden_layers and len(hidden_layers):\n",
        "            first_layer  = nn.Linear(input_concat_size, hidden_layers[0])\n",
        "            self.hidden_layers = nn.ModuleList(\n",
        "                [first_layer] + [nn.Linear(hidden_layers[i], hidden_layers[i+1]) for i in range(len(hidden_layers) - 1)]\n",
        "            )\n",
        "            for layer in self.hidden_layers: nn.init.kaiming_normal_(layer.weight.data)   \n",
        "\n",
        "            op_size = hidden_layers[-1]    \n",
        "        else:\n",
        "            self.hidden_layers = []\n",
        "            op_size = input_concat_size\n",
        "        \n",
        "        self.bn_layers = nn.ModuleList([nn.BatchNorm1d(size) for size in hidden_layers])\n",
        "        self.activation_fn = torch.relu  \n",
        "\n",
        "        self.dropout = nn.Dropout(dropout)\n",
        "\n",
        "        # Output Layer\n",
        "        self.output_layer = nn.Linear(op_size, output_size)\n",
        "        nn.init.kaiming_normal_(self.output_layer.weight.data) \n",
        "                    \n",
        "#         self.output_activation_fn = partial(torch.softmax, dim=1)\n",
        "#         self.output_activation_fn = torch.sigmoid\n",
        "#         self.output_activation_fn = torch.relu\n",
        "        self.output_activation_fn = output_activation_fn\n",
        "\n",
        "        \n",
        "    def forward(self, hist_num_x):\n",
        "        batch_size = hist_num_x.size(0)\n",
        "        \n",
        "        x = hist_num_x\n",
        "        \n",
        "        # x in the format batch_size, seq_len, input_size\n",
        "        hidden, cell = self.init_hidden(batch_size)\n",
        "        outputs, (hidden, cell) = self.lstm(x, (hidden, cell)) \n",
        "        # return outputs, (hidden, cell)\n",
        "        \n",
        "        # x = torch.cat([hidden[0], hidden[1]], 1) if self.bidirectional else hidden[0]\n",
        "        x = torch.cat([hidden[0], hidden[1], cell[0], cell[1]], 1) if self.bidirectional else torch.cat([hidden[0], cell[0]], 1)\n",
        "\n",
        "        x = self.dropout(x)\n",
        "        for hidden_layer, bn_layer in zip(self.hidden_layers, self.bn_layers):\n",
        "            x = self.activation_fn(hidden_layer(x))\n",
        "            x = bn_layer(x)\n",
        "            x = self.dropout(x)\n",
        "        \n",
        "        x = self.output_layer(x)\n",
        "        if self.output_activation_fn is not None: \n",
        "            x = self.output_activation_fn(x)\n",
        "        return x\n",
        "    \n",
        "    def init_hidden(self, batch_size):\n",
        "        return (Variable(torch.zeros(self.num_layers*(2 if self.bidirectional else 1), batch_size, self.hidden_size).to(device)),\n",
        "                Variable(torch.zeros(self.num_layers*(2 if self.bidirectional else 1), batch_size, self.hidden_size)).to(device))\n",
        "\n",
        "\n",
        "def training(model, dataloader, device, optimizer=None, schedular=None, criterion=None):\n",
        "    losses_, preds_, true_ = [], [], []\n",
        "    inds_ = []\n",
        "    \n",
        "    model.train()\n",
        "    for hist_num_x, y, idx in dataloader:\n",
        "        hist_num_x = hist_num_x.to(device)\n",
        "        y = y.to(device)\n",
        "        \n",
        "        optimizer.zero_grad()\n",
        "        \n",
        "        preds = model(hist_num_x)  \n",
        "        loss = criterion(preds, y.unsqueeze(1))  \n",
        "        loss.backward()\n",
        "        optimizer.step()\n",
        "        if schedular is not None: \n",
        "          schedular.step()\n",
        "            \n",
        "        losses_.append(loss.item())\n",
        "        \n",
        "        true_.append(y.unsqueeze(1).cpu().detach().numpy())\n",
        "        preds_.append(preds.cpu().detach().numpy())\n",
        "        inds_.append(idx.unsqueeze(1).cpu().detach().numpy())\n",
        "    \n",
        "    preds_ = np.concatenate(preds_)\n",
        "    true_ = np.concatenate(true_)\n",
        "    inds_ = np.concatenate(inds_)\n",
        "    \n",
        "    return losses_, preds_, true_, inds_\n",
        "\n",
        "\n",
        "def predict(model, dataloader, device, criterion=None):\n",
        "    losses_, preds_, true_ = [], [], []\n",
        "    inds_ = []\n",
        "    \n",
        "    model.eval()\n",
        "    for hist_num_x, y, idx in dataloader:\n",
        "        hist_num_x = hist_num_x.to(device)\n",
        "        y = y.to(device)\n",
        "\n",
        "        preds = model(hist_num_x)  \n",
        "\n",
        "        if criterion is not None:\n",
        "            losses_.append(criterion(preds, y.unsqueeze(1)).item())\n",
        "            \n",
        "        true_.append(y.unsqueeze(1).cpu().detach().numpy())\n",
        "        preds_.append(preds.cpu().detach().numpy())\n",
        "        inds_.append(idx.unsqueeze(1).cpu().detach().numpy())\n",
        "    \n",
        "    preds_ = np.concatenate(preds_)\n",
        "    true_ = np.concatenate(true_)\n",
        "    inds_ = np.concatenate(inds_)\n",
        "    \n",
        "    return losses_, preds_, true_, inds_"
      ],
      "execution_count": 0,
      "outputs": []
    },
    {
      "cell_type": "code",
      "metadata": {
        "id": "a8e0UEppHLO6",
        "colab_type": "code",
        "outputId": "6a4b510f-6d99-4cae-c953-f5c197277440",
        "colab": {
          "base_uri": "https://localhost:8080/",
          "height": 33
        }
      },
      "source": [
        "hidden_size = 128\n",
        "num_layers = 2\n",
        "\n",
        "model = StockRNN(\n",
        "    no_of_num_cols=len(num_columns), \n",
        "    output_size=1, \n",
        "    hidden_size=hidden_size,\n",
        "    num_layers=num_layers, \n",
        "    bidirectional=True, \n",
        "    rnn_dropout=.3, \n",
        "    hidden_layers = [],\n",
        "    output_activation_fn=None,\n",
        "    dropout=.4\n",
        "    \n",
        ").to(device)\n",
        "\n",
        "steps_per_epoch = len(train_dataloader)\n",
        "steps_per_epoch"
      ],
      "execution_count": 0,
      "outputs": [
        {
          "output_type": "execute_result",
          "data": {
            "text/plain": [
              "144"
            ]
          },
          "metadata": {
            "tags": []
          },
          "execution_count": 100
        }
      ]
    },
    {
      "cell_type": "code",
      "metadata": {
        "id": "QjpxPgzagGu3",
        "colab_type": "code",
        "colab": {}
      },
      "source": [
        "# num_columns"
      ],
      "execution_count": 0,
      "outputs": []
    },
    {
      "cell_type": "code",
      "metadata": {
        "id": "fT4POgSnHQEZ",
        "colab_type": "code",
        "outputId": "ca8d1a4a-5f75-4b86-f6e2-a5fbeabb98cc",
        "colab": {
          "base_uri": "https://localhost:8080/",
          "height": 115
        }
      },
      "source": [
        "model"
      ],
      "execution_count": 0,
      "outputs": [
        {
          "output_type": "execute_result",
          "data": {
            "text/plain": [
              "StockRNN(\n",
              "  (lstm): LSTM(5, 128, num_layers=2, batch_first=True, dropout=0.3, bidirectional=True)\n",
              "  (bn_layers): ModuleList()\n",
              "  (dropout): Dropout(p=0.4, inplace=False)\n",
              "  (output_layer): Linear(in_features=512, out_features=1, bias=True)\n",
              ")"
            ]
          },
          "metadata": {
            "tags": []
          },
          "execution_count": 102
        }
      ]
    },
    {
      "cell_type": "code",
      "metadata": {
        "id": "yUKW_6g6HR9x",
        "colab_type": "code",
        "colab": {}
      },
      "source": [
        "def inverse_scaling(true, preds, indx):\n",
        "  df = pd.DataFrame({\n",
        "    'true': ss_tar.inverse_transform(true).reshape(1,-1)[0],\n",
        "    'pred': ss_tar.inverse_transform(preds).reshape(1,-1)[0],\n",
        "    'ind': indx.astype(int).reshape(1,-1)[0],\n",
        "  })\n",
        "  return df\n",
        "\n",
        "from sklearn.metrics import mean_absolute_error, mean_squared_error"
      ],
      "execution_count": 0,
      "outputs": []
    },
    {
      "cell_type": "code",
      "metadata": {
        "id": "Rf7urnkJHUYY",
        "colab_type": "code",
        "colab": {}
      },
      "source": [
        "no_of_epochs = 30\n",
        "learning_rate = 0.01\n",
        "\n",
        "early_st = EarlyStopping(patience=10, is_maximize=False, checkpoint_path=\"checkpoint.pt\")\n",
        "criterion = nn.MSELoss()\n",
        "# criterion = nn.L1Loss()\n",
        "\n",
        "optimizer = torch.optim.Adam(model.parameters(), lr=learning_rate)\n",
        "schedular = torch.optim.lr_scheduler.OneCycleLR(optimizer=optimizer, max_lr=learning_rate, epochs=no_of_epochs, steps_per_epoch=steps_per_epoch)"
      ],
      "execution_count": 0,
      "outputs": []
    },
    {
      "cell_type": "code",
      "metadata": {
        "id": "LzW4x_PfHWkp",
        "colab_type": "code",
        "colab": {}
      },
      "source": [
        "def run_epochs(no_of_epochs, learning_rate, performance_df=[]):\n",
        "\n",
        "  optimizer = torch.optim.Adam(model.parameters(), lr=learning_rate)\n",
        "  schedular = torch.optim.lr_scheduler.OneCycleLR(optimizer=optimizer, max_lr=learning_rate, epochs=no_of_epochs, steps_per_epoch=steps_per_epoch)\n",
        "\n",
        "  for epoch in range(no_of_epochs):\n",
        "      start_time = time.time()\n",
        "      print(\"Epoch : {}\".format(epoch))\n",
        "\n",
        "      # Training\n",
        "      train_losses, train_preds, train_true, train_indexes = training(model=model, dataloader=train_dataloader, device=device,\n",
        "                                      optimizer=optimizer, criterion=criterion, schedular=schedular)\n",
        "      train_loss = np.average(train_losses)\n",
        "    \n",
        "    # training metric calculations\n",
        "      df_tr_preds = inverse_scaling(train_true, train_preds, train_indexes)\n",
        "      train_mae = mean_absolute_error(df_tr_preds.true, df_tr_preds.pred)**(.5)\n",
        "      train_mse = mean_squared_error(df_tr_preds.true, df_tr_preds.pred)**(.5)\n",
        "      print(\"train_loss: {}, train_rmae: {}, train_rmse: {}\".format(train_loss, train_mae, train_mse))\n",
        "\n",
        "      \n",
        "      # Evaluating\n",
        "      val_losses, val_preds, val_true, val_indexes = predict(model=model, dataloader=valid_dataloader, device=device, criterion=criterion)\n",
        "      val_loss = np.average(val_losses)\n",
        "    \n",
        "    # validation metric calculations\n",
        "      df_vl_preds = inverse_scaling(val_true, val_preds, val_indexes)\n",
        "      val_mae = mean_absolute_error(df_vl_preds.true, df_vl_preds.pred)**(.5)\n",
        "      val_mse = mean_squared_error(df_vl_preds.true, df_vl_preds.pred)**(.5)\n",
        "      print( \"val_loss: {}, val_rmae: {}, val_rmse: {}\".format(val_loss, val_mae, val_mse))\n",
        "\n",
        "      performance_df.append({\n",
        "          \"train_loss\": train_loss,\n",
        "          \"train_rmae\": train_mae,\n",
        "          \"train_rmse\": train_mse,\n",
        "          \"val_loss\": val_loss,\n",
        "          \"val_rmae\": val_mae,\n",
        "          \"val_rmse\": val_mse,\n",
        "          \"learning_rate\": learning_rate\n",
        "      })\n",
        "\n",
        "      print(\"--- %s seconds ---\" % (time.time() - start_time))\n",
        "      if early_st(val_mae, model): break\n"
      ],
      "execution_count": 0,
      "outputs": []
    },
    {
      "cell_type": "code",
      "metadata": {
        "id": "Bl22Y-LfHYqv",
        "colab_type": "code",
        "outputId": "f31e33d8-34fe-4944-d766-012e6940a52a",
        "colab": {
          "base_uri": "https://localhost:8080/",
          "height": 667
        }
      },
      "source": [
        "performance_df = []\n",
        "run_epochs(no_of_epochs=10, learning_rate=0.01, performance_df=performance_df)"
      ],
      "execution_count": 0,
      "outputs": [
        {
          "output_type": "stream",
          "text": [
            "Epoch : 0\n",
            "train_loss: 0.011775315574292714, train_rmae: 12.622490661823145, train_rmse: 238.78011917347726\n",
            "val_loss: 0.004665852101985141, val_rmae: 11.795113175557866, val_rmse: 150.0255121533501\n",
            "--- 13.459141731262207 seconds ---\n",
            "Epoch : 1\n",
            "train_loss: 0.0017848726387860046, train_rmae: 8.419798416297967, train_rmse: 92.87279712226018\n",
            "val_loss: 0.002252320973742552, val_rmae: 9.563300604123254, val_rmse: 104.2352919780532\n",
            "--- 13.371853590011597 seconds ---\n",
            "Epoch : 2\n",
            "train_loss: 0.0011718266188027984, train_rmae: 7.52798555782607, train_rmse: 75.29891928901603\n",
            "val_loss: 0.0017653456400641317, val_rmae: 9.21524156954437, val_rmse: 92.28147223136126\n",
            "--- 13.497788429260254 seconds ---\n",
            "Epoch : 3\n",
            "train_loss: 0.0010103384210095909, train_rmae: 7.147341051072195, train_rmse: 69.89515376284146\n",
            "val_loss: 0.0006421331213616294, val_rmae: 6.495597522199952, val_rmse: 55.656052603524174\n",
            "--- 13.401465654373169 seconds ---\n",
            "Epoch : 4\n",
            "train_loss: 0.0005884537757386473, train_rmae: 6.20460012274002, train_rmse: 53.317353970119335\n",
            "val_loss: 0.002532662509653376, val_rmae: 10.236205331917095, val_rmse: 110.53207608540609\n",
            "--- 13.17216420173645 seconds ---\n",
            "Epoch : 5\n",
            "train_loss: 0.0005180325907632424, train_rmae: 6.045578139861068, train_rmse: 49.99219177312843\n",
            "val_loss: 0.0015563790206371858, val_rmae: 8.936434168719392, val_rmse: 86.6477665564367\n",
            "--- 13.336978912353516 seconds ---\n",
            "Epoch : 6\n",
            "train_loss: 0.00039217633270204207, train_rmae: 5.552343633202739, train_rmse: 43.569143481044875\n",
            "val_loss: 0.00034595886186984713, val_rmae: 5.90562411428286, val_rmse: 40.85186803648411\n",
            "--- 13.285198211669922 seconds ---\n",
            "Epoch : 7\n",
            "train_loss: 0.0003661118835225352, train_rmae: 5.464768360809512, train_rmse: 42.04472222517575\n",
            "val_loss: 0.0002889369279846046, val_rmae: 5.079252804450047, val_rmse: 37.33372806158745\n",
            "--- 13.27801251411438 seconds ---\n",
            "Epoch : 8\n",
            "train_loss: 0.0002873731225716054, train_rmae: 5.137423274820081, train_rmse: 37.2921583999237\n",
            "val_loss: 0.00023575315678519125, val_rmae: 5.123628944666278, val_rmse: 33.72318089515726\n",
            "--- 13.622169494628906 seconds ---\n",
            "Epoch : 9\n",
            "train_loss: 0.0002844957524656719, train_rmae: 5.095494258367931, train_rmse: 37.08247380207057\n",
            "val_loss: 0.00021858310723189722, val_rmae: 4.896840396410722, val_rmse: 32.47192672741525\n",
            "--- 13.673959493637085 seconds ---\n"
          ],
          "name": "stdout"
        }
      ]
    },
    {
      "cell_type": "code",
      "metadata": {
        "id": "dCzyO4HPHag5",
        "colab_type": "code",
        "outputId": "63f5982b-f067-4366-dd19-22c57df9a2ad",
        "colab": {
          "base_uri": "https://localhost:8080/",
          "height": 1000
        }
      },
      "source": [
        "run_epochs(no_of_epochs=30, learning_rate=0.001, performance_df=performance_df)"
      ],
      "execution_count": 0,
      "outputs": [
        {
          "output_type": "stream",
          "text": [
            "Epoch : 0\n",
            "train_loss: 0.0002755645223765492, train_rmae: 5.076027210929207, train_rmse: 36.43504427295066\n",
            "val_loss: 0.0002448956067164989, val_rmae: 4.876146817419896, val_rmse: 34.37084669511449\n",
            "--- 13.658957481384277 seconds ---\n",
            "Epoch : 1\n",
            "train_loss: 0.00028431520139646536, train_rmae: 5.062081590480988, train_rmse: 37.0723038519408\n",
            "val_loss: 0.0003189975973852355, val_rmae: 5.784988761501886, val_rmse: 39.227761352672005\n",
            "--- 13.496983051300049 seconds ---\n",
            "Epoch : 2\n",
            "train_loss: 0.0002645489310250721, train_rmae: 5.054131832563592, train_rmse: 35.74857098050826\n",
            "val_loss: 0.00027316419409046945, val_rmae: 5.4812380087013395, val_rmse: 36.300411135864735\n",
            "--- 13.67212438583374 seconds ---\n",
            "Epoch : 3\n",
            "train_loss: 0.0002831111815895484, train_rmae: 5.116357354539038, train_rmse: 36.976307474558965\n",
            "val_loss: 0.00022985013250602284, val_rmae: 4.804465981936185, val_rmse: 33.298313920691804\n",
            "--- 13.928182363510132 seconds ---\n",
            "Epoch : 4\n",
            "train_loss: 0.0003111300161941068, train_rmae: 5.260733032785101, train_rmse: 38.790155290497836\n",
            "val_loss: 0.0002699331184481876, val_rmae: 5.002307359454938, val_rmse: 36.08510617547512\n",
            "--- 13.723661184310913 seconds ---\n",
            "Epoch : 5\n",
            "train_loss: 0.000305675764391506, train_rmae: 5.185263829669265, train_rmse: 38.37416498226297\n",
            "val_loss: 0.0015052101175314582, val_rmae: 8.96695789681985, val_rmse: 85.21150157109074\n",
            "--- 13.259449005126953 seconds ---\n",
            "Epoch : 6\n",
            "train_loss: 0.0003275371880388573, train_rmae: 5.326191929050989, train_rmse: 39.66927946659023\n",
            "val_loss: 0.0003343575825417873, val_rmae: 5.909238997517798, val_rmse: 40.161080084026935\n",
            "--- 13.239369630813599 seconds ---\n",
            "Epoch : 7\n",
            "train_loss: 0.00032447122809268575, train_rmae: 5.304316601827869, train_rmse: 39.5091001433926\n",
            "val_loss: 0.00019467445105839657, val_rmae: 4.699498803219854, val_rmse: 30.64462859489\n",
            "--- 13.283444881439209 seconds ---\n",
            "Epoch : 8\n",
            "train_loss: 0.0003146362099010326, train_rmae: 5.212486482964057, train_rmse: 39.02318803098438\n",
            "val_loss: 0.0002138747951482914, val_rmae: 4.71827119330681, val_rmse: 32.120304937185956\n",
            "--- 13.284477233886719 seconds ---\n",
            "Epoch : 9\n",
            "train_loss: 0.0003144379803517141, train_rmae: 5.26113908798977, train_rmse: 38.97832023371694\n",
            "val_loss: 0.000973445854161467, val_rmae: 8.00650808735804, val_rmse: 68.52599159032651\n",
            "--- 13.309811353683472 seconds ---\n",
            "Epoch : 10\n",
            "train_loss: 0.0002887863913403837, train_rmae: 5.1062550949762295, train_rmse: 37.344701216964836\n",
            "val_loss: 0.0006119675171194263, val_rmae: 7.050105739368687, val_rmse: 54.33303651943148\n",
            "--- 13.317269086837769 seconds ---\n",
            "Epoch : 11\n",
            "train_loss: 0.00026347197121544415, train_rmae: 4.998739465128621, train_rmse: 35.464599151389685\n",
            "val_loss: 0.0002541349777413403, val_rmae: 5.437576819567809, val_rmse: 35.01321771901381\n",
            "--- 13.320039749145508 seconds ---\n",
            "Epoch : 12\n",
            "train_loss: 0.00026401892389710864, train_rmae: 5.015753343312662, train_rmse: 35.63390959037911\n",
            "val_loss: 0.00018550108279525993, val_rmae: 4.62566742076475, val_rmse: 29.913892130293117\n",
            "--- 13.254987716674805 seconds ---\n",
            "Epoch : 13\n",
            "train_loss: 0.00025745171680884797, train_rmae: 4.985810363162341, train_rmse: 35.27646633590782\n",
            "val_loss: 0.00019267623843903183, val_rmae: 4.834920995120059, val_rmse: 30.486945688636556\n",
            "--- 13.490604162216187 seconds ---\n",
            "Epoch : 14\n",
            "train_loss: 0.00023984198090450567, train_rmae: 4.8978911708144945, train_rmse: 34.07414687635719\n",
            "val_loss: 0.000204681591979477, val_rmae: 4.663190341599548, val_rmse: 31.422399454847493\n",
            "--- 13.517646551132202 seconds ---\n",
            "Epoch : 15\n",
            "train_loss: 0.00023413496726081777, train_rmae: 4.873095409327443, train_rmse: 33.63386413135205\n",
            "val_loss: 0.0002931806769683359, val_rmae: 5.697380454469295, val_rmse: 37.606865958060105\n",
            "--- 13.547444343566895 seconds ---\n",
            "Epoch : 16\n",
            "train_loss: 0.0002397219118898243, train_rmae: 4.8921804666240165, train_rmse: 34.02669240314782\n",
            "val_loss: 0.0001925557010825412, val_rmae: 4.850886053574206, val_rmse: 30.477400614917727\n",
            "--- 13.800941467285156 seconds ---\n",
            "Epoch : 17\n",
            "train_loss: 0.0002232413721180314, train_rmae: 4.789069270616135, train_rmse: 32.86084979453133\n",
            "val_loss: 0.00021002228200990748, val_rmae: 4.681849825517291, val_rmse: 31.829713732132923\n",
            "--- 14.020896196365356 seconds ---\n",
            "Epoch : 18\n",
            "train_loss: 0.00022706294713417365, train_rmae: 4.825360441827604, train_rmse: 33.11045523839486\n",
            "val_loss: 0.00026733494854942264, val_rmae: 5.527833734907486, val_rmse: 35.91099226190185\n",
            "--- 13.729403734207153 seconds ---\n",
            "Epoch : 19\n",
            "train_loss: 0.0002319693172567996, train_rmae: 4.844948306600178, train_rmse: 33.44899408170782\n",
            "val_loss: 0.0003185812923099426, val_rmae: 5.850254620610676, val_rmse: 39.202150371503855\n",
            "--- 13.68084979057312 seconds ---\n",
            "Epoch : 20\n",
            "train_loss: 0.00020511112961685285, train_rmae: 4.705212304152538, train_rmse: 31.47607288183359\n",
            "val_loss: 0.00023351517296384673, val_rmae: 5.283907791499797, val_rmse: 33.56272186262796\n",
            "--- 13.645251035690308 seconds ---\n",
            "Epoch : 21\n",
            "train_loss: 0.0002089964522787745, train_rmae: 4.719125694830389, train_rmse: 31.744117011562157\n",
            "val_loss: 0.00035141258184850113, val_rmae: 6.031810991356512, val_rmse: 41.172614734815696\n",
            "--- 13.804592847824097 seconds ---\n",
            "Epoch : 22\n",
            "train_loss: 0.0002162831033274415, train_rmae: 4.724369971843799, train_rmse: 32.336987895176826\n",
            "val_loss: 0.00023491225965035592, val_rmae: 4.863323998933601, val_rmse: 33.66298461519901\n",
            "--- 13.79279375076294 seconds ---\n"
          ],
          "name": "stdout"
        }
      ]
    },
    {
      "cell_type": "code",
      "metadata": {
        "id": "dwRbbxaJHk2E",
        "colab_type": "code",
        "colab": {}
      },
      "source": [
        ""
      ],
      "execution_count": 0,
      "outputs": []
    },
    {
      "cell_type": "code",
      "metadata": {
        "id": "j4TecGNQHnTO",
        "colab_type": "code",
        "colab": {}
      },
      "source": [
        ""
      ],
      "execution_count": 0,
      "outputs": []
    },
    {
      "cell_type": "code",
      "metadata": {
        "id": "4w-OUwVLH1eH",
        "colab_type": "code",
        "colab": {}
      },
      "source": [
        ""
      ],
      "execution_count": 0,
      "outputs": []
    },
    {
      "cell_type": "code",
      "metadata": {
        "id": "V9j5sNP4H1iS",
        "colab_type": "code",
        "outputId": "63bf6d15-b1a1-4ea4-b66a-4b10c7c40f20",
        "colab": {
          "base_uri": "https://localhost:8080/",
          "height": 390
        }
      },
      "source": [
        "performance_df_ = pd.DataFrame(performance_df)\n",
        "\n",
        "plt.figure(figsize=(20, 6))\n",
        "plt.plot(performance_df_.train_loss, color='r', label=\"Train Loss\") \n",
        "plt.plot(performance_df_.val_loss, color='b', label=\"Val Loss\")\n",
        "plt.ylabel(\"Price\")\n",
        "plt.title(\"Loss Plot\")\n",
        "plt.legend()\n",
        "plt.show()"
      ],
      "execution_count": 0,
      "outputs": [
        {
          "output_type": "display_data",
          "data": {
            "image/png": "[encoded data removed]",
            "text/plain": [
              "<Figure size 1440x432 with 1 Axes>"
            ]
          },
          "metadata": {
            "tags": [],
            "needs_background": "light"
          }
        }
      ]
    },
    {
      "cell_type": "code",
      "metadata": {
        "id": "1-7epAWdH17x",
        "colab_type": "code",
        "outputId": "484e40f4-b920-4331-e855-cc5308ae2bb3",
        "colab": {
          "base_uri": "https://localhost:8080/",
          "height": 33
        }
      },
      "source": [
        "# loading best model\n",
        "model.load_state_dict(torch.load(early_st.checkpoint_path))"
      ],
      "execution_count": 0,
      "outputs": [
        {
          "output_type": "execute_result",
          "data": {
            "text/plain": [
              "<All keys matched successfully>"
            ]
          },
          "metadata": {
            "tags": []
          },
          "execution_count": 110
        }
      ]
    },
    {
      "cell_type": "code",
      "metadata": {
        "id": "9FUnTT2sH5xL",
        "colab_type": "code",
        "outputId": "c6705d86-a55a-44cb-9a39-2fef1e6bb5bc",
        "colab": {
          "base_uri": "https://localhost:8080/",
          "height": 503
        }
      },
      "source": [
        "\n",
        "\n",
        "losses, preds, true, indexes = predict(model=model, dataloader=valid_dataloader, device=device, criterion=criterion)\n",
        "df_preds = inverse_scaling(true, preds, indexes)\n",
        "df_preds = df_preds.sort_values(by='ind')\n",
        "df_preds = df_preds.set_index('ind')\n",
        "\n",
        "plt.figure(figsize=(20, 6))\n",
        "# plt.plot(df_tr_preds.true, color='r', label=\"Train\")\n",
        "\n",
        "plt.plot(df_preds.true, color='g', label=\"Val\") \n",
        "plt.plot(df_preds.pred, color='b', label=\"Pred\") \n",
        "\n",
        "plt.ylabel(\"Price\")\n",
        "plt.title(\"Stock Price\")\n",
        "plt.legend()\n",
        "plt.show()\n",
        "\n",
        "\n",
        "print(\"Validation Metrics\")\n",
        "print(\"Accuracy:\", calculate_accuracy(df_preds.true, df_preds.pred))\n",
        "print(\"RMAE:\", mean_absolute_error(df_preds.true, df_preds.pred)**.5)\n",
        "print(\"RMSE:\", mean_squared_error(df_preds.true, df_preds.pred)**.5)\n",
        "print(\"MAPE:\", mean_absolute_percentage_error(df_preds.true, df_preds.pred))\n",
        "df_preds['change'] = df_preds.pred -  df_preds.true\n",
        "print(\"Avg Change\", df_preds.change.mean())\n",
        "print(\"Direction Accuracy\", accuracy_score(df_preds.true - df_preds.true.shift(1) > 0, df_preds.pred - df_preds.pred.shift(1) > 0))"
      ],
      "execution_count": 0,
      "outputs": [
        {
          "output_type": "display_data",
          "data": {
            "image/png": "[encoded data removed]",
            "text/plain": [
              "<Figure size 1440x432 with 1 Axes>"
            ]
          },
          "metadata": {
            "tags": [],
            "needs_background": "light"
          }
        },
        {
          "output_type": "stream",
          "text": [
            "Validation Metrics\n",
            "Accuracy: 98.90081882476807\n",
            "RMAE: 4.62566742076475\n",
            "RMSE: 29.913892130293117\n",
            "MAPE: 0.012081993190804496\n",
            "Avg Change 2.4900805950164795\n",
            "Direction Accuracy 0.5068493150684932\n"
          ],
          "name": "stdout"
        }
      ]
    },
    {
      "cell_type": "code",
      "metadata": {
        "id": "3walqqpSfi0X",
        "colab_type": "code",
        "outputId": "42d987e7-fc31-4bcc-d4f5-065792a68b03",
        "colab": {
          "base_uri": "https://localhost:8080/",
          "height": 503
        }
      },
      "source": [
        "losses, preds, true, indexes = predict(model=model, dataloader=test_dataloader, device=device, criterion=criterion)\n",
        "df_preds = inverse_scaling(true, preds, indexes)\n",
        "df_preds = df_preds.sort_values(by='ind')\n",
        "df_preds = df_preds.set_index('ind')\n",
        "\n",
        "plt.figure(figsize=(20, 6))\n",
        "# plt.plot(df_tr_preds.true, color='r', label=\"Train\")\n",
        "\n",
        "plt.plot(df_preds.true, color='g', label=\"Val\") \n",
        "plt.plot(df_preds.pred, color='b', label=\"Pred\") \n",
        "\n",
        "plt.ylabel(\"Price\")\n",
        "plt.title(\"Stock Price\")\n",
        "plt.legend()\n",
        "plt.show()\n",
        "\n",
        "\n",
        "print(\"test Metrics\")\n",
        "print(\"Accuracy:\", calculate_accuracy(df_preds.true, df_preds.pred))\n",
        "print(\"RMAE:\", mean_absolute_error(df_preds.true, df_preds.pred)**.5)\n",
        "print(\"RMSE:\", mean_squared_error(df_preds.true, df_preds.pred)**.5)\n",
        "print(\"MAPE:\", mean_absolute_percentage_error(df_preds.true, df_preds.pred))\n",
        "df_preds['change'] = df_preds.pred -  df_preds.true\n",
        "print(\"Avg Change\", df_preds.change.mean())\n",
        "print(\"Direction Accuracy\", accuracy_score(df_preds.true - df_preds.true.shift(1) > 0, df_preds.pred - df_preds.pred.shift(1) > 0))"
      ],
      "execution_count": 0,
      "outputs": [
        {
          "output_type": "display_data",
          "data": {
            "image/png": "[encoded data removed]",
            "text/plain": [
              "<Figure size 1440x432 with 1 Axes>"
            ]
          },
          "metadata": {
            "tags": [],
            "needs_background": "light"
          }
        },
        {
          "output_type": "stream",
          "text": [
            "test Metrics\n",
            "Accuracy: 97.00476005673409\n",
            "RMAE: 7.1902988457681705\n",
            "RMSE: 78.35351579540001\n",
            "MAPE: 0.08971462375484407\n",
            "Avg Change 10.897249221801758\n",
            "Direction Accuracy 0.5222222222222223\n"
          ],
          "name": "stdout"
        }
      ]
    },
    {
      "cell_type": "code",
      "metadata": {
        "id": "8SpxjfvGH7Zn",
        "colab_type": "code",
        "colab": {}
      },
      "source": [
        ""
      ],
      "execution_count": 0,
      "outputs": []
    },
    {
      "cell_type": "code",
      "metadata": {
        "id": "_CyJUTQhogVa",
        "colab_type": "code",
        "colab": {}
      },
      "source": [
        ""
      ],
      "execution_count": 0,
      "outputs": []
    },
    {
      "cell_type": "code",
      "metadata": {
        "id": "6oSS4puWOyUj",
        "colab_type": "code",
        "outputId": "376ba368-5420-476a-c505-b2125416a1c5",
        "colab": {
          "base_uri": "https://localhost:8080/",
          "height": 98
        }
      },
      "source": [
        "df_vl_nf = df_vl_preds.copy(deep=True)\n",
        "df_vl_nf['pred'] = df_vl_nf['true'].shift(1)\n",
        "df_vl_nf = df_vl_nf.dropna()\n",
        "\n",
        "print(\"NF Validation RMAE:\", mean_absolute_error(df_vl_nf.true, df_vl_nf.pred)**.5)\n",
        "print(\"NF Validation RMSE:\", mean_squared_error(df_vl_nf.true, df_vl_nf.pred)**.5)\n",
        "print(\"NF Validation MAPE:\", mean_absolute_percentage_error(df_vl_nf.true, df_vl_nf.pred))\n",
        "df_vl_preds['change'] = df_vl_nf.pred -  df_vl_nf.true\n",
        "print(\"NF Avg Change\", df_vl_nf.change.mean())\n",
        "print(\"NF Direction Accuracy\", accuracy_score(df_vl_nf.true - df_vl_nf.true.shift(1) > 0, df_vl_nf.pred - df_vl_nf.pred.shift(1) > 0))"
      ],
      "execution_count": 0,
      "outputs": [
        {
          "output_type": "stream",
          "text": [
            "NF Validation RMAE: 4.234848164940809\n",
            "NF Validation RMSE: 25.382560017211496\n",
            "NF Validation MAPE: 0.008577485277783126\n",
            "NF Avg Change -1.0870603322982788\n",
            "NF Direction Accuracy 0.5384615384615384\n"
          ],
          "name": "stdout"
        }
      ]
    },
    {
      "cell_type": "code",
      "metadata": {
        "id": "lpWtZH2GPEHG",
        "colab_type": "code",
        "colab": {}
      },
      "source": [
        ""
      ],
      "execution_count": 0,
      "outputs": []
    },
    {
      "cell_type": "code",
      "metadata": {
        "id": "oXBxOCOUcVZT",
        "colab_type": "code",
        "colab": {}
      },
      "source": [
        ""
      ],
      "execution_count": 0,
      "outputs": []
    },
    {
      "cell_type": "code",
      "metadata": {
        "id": "48dx0FeWcn4t",
        "colab_type": "code",
        "colab": {}
      },
      "source": [
        ""
      ],
      "execution_count": 0,
      "outputs": []
    }
  ]
}